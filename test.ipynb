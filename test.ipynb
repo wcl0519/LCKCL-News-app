{
 "cells": [
  {
   "cell_type": "code",
   "execution_count": 6,
   "metadata": {},
   "outputs": [
    {
     "name": "stdout",
     "output_type": "stream",
     "text": [
      "[]\n"
     ]
    }
   ],
   "source": [
    "from bs4 import BeautifulSoup\n",
    "\n",
    "# Sample HTML (replace with the actual HTML from your page)\n",
    "html_content = \"\"\"\n",
    "<div class=\"media mb-3 flex-row heading-4 \">\n",
    "  <a class=\"title\" href=\"#\">This is the title 1</a>\n",
    "</div>\n",
    "<div class=\"media mb-3 flex-row heading-4 \">\n",
    "  <a class=\"title\" href=\"#\">This is the title 2</a>\n",
    "</div>\n",
    "\"\"\"\n",
    "\n",
    "soup = BeautifulSoup(html_content, 'html.parser')\n",
    "\n",
    "# Find all divs with the specified class\n",
    "divs = soup.find_all('div', class_='media mb-3 flex-row heading-4 ')\n",
    "\n",
    "# Extract the content of the <a> tag within each div\n",
    "titles = []\n",
    "for div in divs:\n",
    "    print(div)\n",
    "    title_tag = div.find('a', class_='title')\n",
    "    if title_tag:\n",
    "        titles.append(title_tag.get_text().strip())  # Use get_text() to get the text content\n",
    "\n",
    "# Print the extracted titles\n",
    "print(titles)"
   ]
  },
  {
   "cell_type": "code",
   "execution_count": 9,
   "metadata": {},
   "outputs": [
    {
     "name": "stdout",
     "output_type": "stream",
     "text": [
      "中日韓利益錯綜複雜 峰會望重啟三邊關係\n",
      "加強牙科實習無可厚非 各方理性溝通免爭拗\n",
      "歐洲國家棄撐以色列 美以益形孤立\n",
      "垃圾收費強推未具條件 宜暫緩先做好配套\n",
      "守望相助制止悲劇 正面支援精神病患\n",
      "學歷造假敲警號   大學收生必須嚴把關\n",
      "打風不停市勢在必行 先行先動莫等遲緩者\n",
      "的士「放蛇」激化矛盾 港府宜規管網約車破局\n",
      "拜登揮關稅大棒 中美貿易戰未見急升溫\n",
      "普京訪華 強化中俄聯手抗美戰略\n",
      "手機號開通數字人幣 便利港人北上消費\n",
      "法庭禁播「港獨」歌立場明確 對違規者要嚴正執法\n",
      "新加坡草根總理接棒 應對內外巨大挑戰\n"
     ]
    }
   ],
   "source": [
    "import requests\n",
    "from bs4 import BeautifulSoup\n",
    "\n",
    "# URL of the webpage you want to scrape\n",
    "# 日報-社論\n",
    "url = \"https://std.stheadline.com/daily/editorial/%E6%97%A5%E5%A0%B1-%E7%A4%BE%E8%AB%96\"\n",
    "\n",
    "# Send a GET request to the webpage\n",
    "response = requests.get(url)\n",
    "\n",
    "# Check if the request was successful\n",
    "if response.status_code == 200:\n",
    "    # Parse the HTML content of the page\n",
    "    soup = BeautifulSoup(response.content, \"html.parser\")\n",
    "\n",
    "    # Find all <div> elements with the specified class\n",
    "    divs = soup.find_all(\"div\", class_=\"media mb-3 flex-row heading-4\")\n",
    "\n",
    "    # Loop through the <div> elements\n",
    "    for div in divs:\n",
    "        # Find the <a> tag with class \"title\" inside the current <div>\n",
    "        a_tag = div.find(\"a\", class_=\"title\")\n",
    "        if a_tag:\n",
    "            # Print the content of the <a> tag\n",
    "            print(a_tag.get_text())\n",
    "else:\n",
    "    print(f\"Failed to retrieve the webpage. Status code: {response.status_code}\")"
   ]
  },
  {
   "cell_type": "code",
   "execution_count": 3,
   "metadata": {},
   "outputs": [
    {
     "data": {
      "text/plain": [
       "{'全部': 'https://std.stheadline.com/daily/日報',\n",
       " '社論': 'https://std.stheadline.com/daily/editorial/日報-社論',\n",
       " '港聞': 'https://std.stheadline.com/daily/hongkong/日報-港聞',\n",
       " '教育': 'https://std.stheadline.com/daily/education/日報-教育',\n",
       " '地產': 'https://std.stheadline.com/daily/property/日報-地產',\n",
       " '財經': 'https://std.stheadline.com/daily/finance/日報-財經',\n",
       " '娛樂': 'https://std.stheadline.com/daily/entertainment/日報-娛樂',\n",
       " '體育': 'https://std.stheadline.com/daily/sport/日報-體育',\n",
       " '國際': 'https://std.stheadline.com/daily/international/日報-國際',\n",
       " '中國': 'https://std.stheadline.com/daily/china/日報-中國'}"
      ]
     },
     "execution_count": 3,
     "metadata": {},
     "output_type": "execute_result"
    }
   ],
   "source": [
    "import requests\n",
    "from bs4 import BeautifulSoup\n",
    "\n",
    "# URL of the webpage you want to scrape\n",
    "# 日報\n",
    "url = \"https://std.stheadline.com/daily/%E6%97%A5%E5%A0%B1\"\n",
    "\n",
    "# Send a GET request to the webpage\n",
    "response = requests.get(url)\n",
    "\n",
    "result_dict = {}\n",
    "# Check if the request was successful\n",
    "if response.status_code == 200:\n",
    "    # Parse the HTML content of the page\n",
    "    soup = BeautifulSoup(response.content, \"html.parser\")\n",
    "\n",
    "    main_nav = soup.find(\"div\", id=\"mainNav\")\n",
    "\n",
    "    nav_items = main_nav.find_all(\"li\", class_=\"nav-item\")\n",
    "\n",
    "    for item in nav_items:\n",
    "        title = item.find(\"a\")\n",
    "        text = title.get_text().strip()  # Get the text of the element\n",
    "        href = title.get(\"href\")  # Get the value of the href attribute\n",
    "        result_dict[text] = href  # Add key-value pair to the dictionary\n",
    "\n",
    "else:\n",
    "    print(f\"Failed to retrieve the webpage. Status code: {response.status_code}\")\n",
    "\n",
    "result_dict"
   ]
  },
  {
   "cell_type": "code",
   "execution_count": 20,
   "metadata": {},
   "outputs": [
    {
     "ename": "error",
     "evalue": "RunLoopStopper is overriding existing Objective-C class",
     "output_type": "error",
     "traceback": [
      "\u001b[0;31m---------------------------------------------------------------------------\u001b[0m",
      "\u001b[0;31mKeyError\u001b[0m                                  Traceback (most recent call last)",
      "File \u001b[0;32m~/.virtualenvs/go-jetson/lib/python3.8/site-packages/pyttsx3/__init__.py:20\u001b[0m, in \u001b[0;36minit\u001b[0;34m(driverName, debug)\u001b[0m\n\u001b[1;32m     19\u001b[0m \u001b[38;5;28;01mtry\u001b[39;00m:\n\u001b[0;32m---> 20\u001b[0m     eng \u001b[38;5;241m=\u001b[39m \u001b[43m_activeEngines\u001b[49m\u001b[43m[\u001b[49m\u001b[43mdriverName\u001b[49m\u001b[43m]\u001b[49m\n\u001b[1;32m     21\u001b[0m \u001b[38;5;28;01mexcept\u001b[39;00m \u001b[38;5;167;01mKeyError\u001b[39;00m:\n",
      "File \u001b[0;32m~/.pyenv/versions/3.8.13/lib/python3.8/weakref.py:131\u001b[0m, in \u001b[0;36mWeakValueDictionary.__getitem__\u001b[0;34m(self, key)\u001b[0m\n\u001b[1;32m    130\u001b[0m     \u001b[38;5;28mself\u001b[39m\u001b[38;5;241m.\u001b[39m_commit_removals()\n\u001b[0;32m--> 131\u001b[0m o \u001b[38;5;241m=\u001b[39m \u001b[38;5;28;43mself\u001b[39;49m\u001b[38;5;241;43m.\u001b[39;49m\u001b[43mdata\u001b[49m\u001b[43m[\u001b[49m\u001b[43mkey\u001b[49m\u001b[43m]\u001b[49m()\n\u001b[1;32m    132\u001b[0m \u001b[38;5;28;01mif\u001b[39;00m o \u001b[38;5;129;01mis\u001b[39;00m \u001b[38;5;28;01mNone\u001b[39;00m:\n",
      "\u001b[0;31mKeyError\u001b[0m: 'nsss'",
      "\nDuring handling of the above exception, another exception occurred:\n",
      "\u001b[0;31merror\u001b[0m                                     Traceback (most recent call last)",
      "Cell \u001b[0;32mIn[20], line 3\u001b[0m\n\u001b[1;32m      1\u001b[0m \u001b[38;5;28;01mimport\u001b[39;00m \u001b[38;5;21;01mpyttsx3\u001b[39;00m\n\u001b[0;32m----> 3\u001b[0m engine \u001b[38;5;241m=\u001b[39m \u001b[43mpyttsx3\u001b[49m\u001b[38;5;241;43m.\u001b[39;49m\u001b[43minit\u001b[49m\u001b[43m(\u001b[49m\u001b[43mdriverName\u001b[49m\u001b[38;5;241;43m=\u001b[39;49m\u001b[38;5;124;43m\"\u001b[39;49m\u001b[38;5;124;43mnsss\u001b[39;49m\u001b[38;5;124;43m\"\u001b[39;49m\u001b[43m)\u001b[49m  \u001b[38;5;66;03m# Use the Microsoft Speech Platform: sapi5\u001b[39;00m\n\u001b[1;32m      4\u001b[0m voices \u001b[38;5;241m=\u001b[39m engine\u001b[38;5;241m.\u001b[39mgetProperty(\u001b[38;5;124m'\u001b[39m\u001b[38;5;124mvoices\u001b[39m\u001b[38;5;124m'\u001b[39m)\n\u001b[1;32m      6\u001b[0m \u001b[38;5;28;01mfor\u001b[39;00m i, voice \u001b[38;5;129;01min\u001b[39;00m \u001b[38;5;28menumerate\u001b[39m(voices):\n",
      "File \u001b[0;32m~/.virtualenvs/go-jetson/lib/python3.8/site-packages/pyttsx3/__init__.py:22\u001b[0m, in \u001b[0;36minit\u001b[0;34m(driverName, debug)\u001b[0m\n\u001b[1;32m     20\u001b[0m     eng \u001b[38;5;241m=\u001b[39m _activeEngines[driverName]\n\u001b[1;32m     21\u001b[0m \u001b[38;5;28;01mexcept\u001b[39;00m \u001b[38;5;167;01mKeyError\u001b[39;00m:\n\u001b[0;32m---> 22\u001b[0m     eng \u001b[38;5;241m=\u001b[39m \u001b[43mEngine\u001b[49m\u001b[43m(\u001b[49m\u001b[43mdriverName\u001b[49m\u001b[43m,\u001b[49m\u001b[43m \u001b[49m\u001b[43mdebug\u001b[49m\u001b[43m)\u001b[49m\n\u001b[1;32m     23\u001b[0m     _activeEngines[driverName] \u001b[38;5;241m=\u001b[39m eng\n\u001b[1;32m     24\u001b[0m \u001b[38;5;28;01mreturn\u001b[39;00m eng\n",
      "File \u001b[0;32m~/.virtualenvs/go-jetson/lib/python3.8/site-packages/pyttsx3/engine.py:30\u001b[0m, in \u001b[0;36mEngine.__init__\u001b[0;34m(self, driverName, debug)\u001b[0m\n\u001b[1;32m     20\u001b[0m \u001b[38;5;28;01mdef\u001b[39;00m \u001b[38;5;21m__init__\u001b[39m(\u001b[38;5;28mself\u001b[39m, driverName\u001b[38;5;241m=\u001b[39m\u001b[38;5;28;01mNone\u001b[39;00m, debug\u001b[38;5;241m=\u001b[39m\u001b[38;5;28;01mFalse\u001b[39;00m):\n\u001b[1;32m     21\u001b[0m \u001b[38;5;250m    \u001b[39m\u001b[38;5;124;03m\"\"\"\u001b[39;00m\n\u001b[1;32m     22\u001b[0m \u001b[38;5;124;03m    Constructs a new TTS engine instance.\u001b[39;00m\n\u001b[1;32m     23\u001b[0m \n\u001b[0;32m   (...)\u001b[0m\n\u001b[1;32m     28\u001b[0m \u001b[38;5;124;03m    @type debug: bool\u001b[39;00m\n\u001b[1;32m     29\u001b[0m \u001b[38;5;124;03m    \"\"\"\u001b[39;00m\n\u001b[0;32m---> 30\u001b[0m     \u001b[38;5;28mself\u001b[39m\u001b[38;5;241m.\u001b[39mproxy \u001b[38;5;241m=\u001b[39m \u001b[43mdriver\u001b[49m\u001b[38;5;241;43m.\u001b[39;49m\u001b[43mDriverProxy\u001b[49m\u001b[43m(\u001b[49m\u001b[43mweakref\u001b[49m\u001b[38;5;241;43m.\u001b[39;49m\u001b[43mproxy\u001b[49m\u001b[43m(\u001b[49m\u001b[38;5;28;43mself\u001b[39;49m\u001b[43m)\u001b[49m\u001b[43m,\u001b[49m\u001b[43m \u001b[49m\u001b[43mdriverName\u001b[49m\u001b[43m,\u001b[49m\u001b[43m \u001b[49m\u001b[43mdebug\u001b[49m\u001b[43m)\u001b[49m\n\u001b[1;32m     31\u001b[0m     \u001b[38;5;66;03m# initialize other vars\u001b[39;00m\n\u001b[1;32m     32\u001b[0m     \u001b[38;5;28mself\u001b[39m\u001b[38;5;241m.\u001b[39m_connects \u001b[38;5;241m=\u001b[39m {}\n",
      "File \u001b[0;32m~/.virtualenvs/go-jetson/lib/python3.8/site-packages/pyttsx3/driver.py:50\u001b[0m, in \u001b[0;36mDriverProxy.__init__\u001b[0;34m(self, engine, driverName, debug)\u001b[0m\n\u001b[1;32m     48\u001b[0m \u001b[38;5;66;03m# import driver module\u001b[39;00m\n\u001b[1;32m     49\u001b[0m name \u001b[38;5;241m=\u001b[39m \u001b[38;5;124m'\u001b[39m\u001b[38;5;124mpyttsx3.drivers.\u001b[39m\u001b[38;5;132;01m%s\u001b[39;00m\u001b[38;5;124m'\u001b[39m \u001b[38;5;241m%\u001b[39m driverName\n\u001b[0;32m---> 50\u001b[0m \u001b[38;5;28mself\u001b[39m\u001b[38;5;241m.\u001b[39m_module \u001b[38;5;241m=\u001b[39m \u001b[43mimportlib\u001b[49m\u001b[38;5;241;43m.\u001b[39;49m\u001b[43mimport_module\u001b[49m\u001b[43m(\u001b[49m\u001b[43mname\u001b[49m\u001b[43m)\u001b[49m\n\u001b[1;32m     51\u001b[0m \u001b[38;5;66;03m# build driver instance\u001b[39;00m\n\u001b[1;32m     52\u001b[0m \u001b[38;5;28mself\u001b[39m\u001b[38;5;241m.\u001b[39m_driver \u001b[38;5;241m=\u001b[39m \u001b[38;5;28mself\u001b[39m\u001b[38;5;241m.\u001b[39m_module\u001b[38;5;241m.\u001b[39mbuildDriver(weakref\u001b[38;5;241m.\u001b[39mproxy(\u001b[38;5;28mself\u001b[39m))\n",
      "File \u001b[0;32m~/.pyenv/versions/3.8.13/lib/python3.8/importlib/__init__.py:127\u001b[0m, in \u001b[0;36mimport_module\u001b[0;34m(name, package)\u001b[0m\n\u001b[1;32m    125\u001b[0m             \u001b[38;5;28;01mbreak\u001b[39;00m\n\u001b[1;32m    126\u001b[0m         level \u001b[38;5;241m+\u001b[39m\u001b[38;5;241m=\u001b[39m \u001b[38;5;241m1\u001b[39m\n\u001b[0;32m--> 127\u001b[0m \u001b[38;5;28;01mreturn\u001b[39;00m \u001b[43m_bootstrap\u001b[49m\u001b[38;5;241;43m.\u001b[39;49m\u001b[43m_gcd_import\u001b[49m\u001b[43m(\u001b[49m\u001b[43mname\u001b[49m\u001b[43m[\u001b[49m\u001b[43mlevel\u001b[49m\u001b[43m:\u001b[49m\u001b[43m]\u001b[49m\u001b[43m,\u001b[49m\u001b[43m \u001b[49m\u001b[43mpackage\u001b[49m\u001b[43m,\u001b[49m\u001b[43m \u001b[49m\u001b[43mlevel\u001b[49m\u001b[43m)\u001b[49m\n",
      "File \u001b[0;32m<frozen importlib._bootstrap>:1014\u001b[0m, in \u001b[0;36m_gcd_import\u001b[0;34m(name, package, level)\u001b[0m\n",
      "File \u001b[0;32m<frozen importlib._bootstrap>:991\u001b[0m, in \u001b[0;36m_find_and_load\u001b[0;34m(name, import_)\u001b[0m\n",
      "File \u001b[0;32m<frozen importlib._bootstrap>:975\u001b[0m, in \u001b[0;36m_find_and_load_unlocked\u001b[0;34m(name, import_)\u001b[0m\n",
      "File \u001b[0;32m<frozen importlib._bootstrap>:671\u001b[0m, in \u001b[0;36m_load_unlocked\u001b[0;34m(spec)\u001b[0m\n",
      "File \u001b[0;32m<frozen importlib._bootstrap_external>:843\u001b[0m, in \u001b[0;36mexec_module\u001b[0;34m(self, module)\u001b[0m\n",
      "File \u001b[0;32m<frozen importlib._bootstrap>:219\u001b[0m, in \u001b[0;36m_call_with_frames_removed\u001b[0;34m(f, *args, **kwds)\u001b[0m\n",
      "File \u001b[0;32m~/.virtualenvs/go-jetson/lib/python3.8/site-packages/pyttsx3/drivers/nsss.py:12\u001b[0m\n\u001b[1;32m      8\u001b[0m \u001b[38;5;28;01mfrom\u001b[39;00m \u001b[38;5;21;01m.\u001b[39;00m\u001b[38;5;21;01m.\u001b[39;00m\u001b[38;5;21;01mvoice\u001b[39;00m \u001b[38;5;28;01mimport\u001b[39;00m Voice\n\u001b[1;32m     11\u001b[0m \u001b[38;5;66;03m# noinspection PyUnresolvedReferences\u001b[39;00m\n\u001b[0;32m---> 12\u001b[0m \u001b[38;5;28;01mclass\u001b[39;00m \u001b[38;5;21;01mRunLoopStopper\u001b[39;00m(PyObjCAppHelperRunLoopStopper):\n\u001b[1;32m     13\u001b[0m \u001b[38;5;250m    \u001b[39m\u001b[38;5;124;03m\"\"\"\u001b[39;00m\n\u001b[1;32m     14\u001b[0m \u001b[38;5;124;03m    Overrides PyObjCAppHelperRunLoopStopper to terminate after endLoop.\u001b[39;00m\n\u001b[1;32m     15\u001b[0m \u001b[38;5;124;03m    \"\"\"\u001b[39;00m\n\u001b[1;32m     17\u001b[0m     \u001b[38;5;28;01mdef\u001b[39;00m \u001b[38;5;21m__init__\u001b[39m(\u001b[38;5;28mself\u001b[39m):\n",
      "\u001b[0;31merror\u001b[0m: RunLoopStopper is overriding existing Objective-C class"
     ]
    }
   ],
   "source": [
    "import pyttsx3\n",
    "\n",
    "engine = pyttsx3.init(driverName=\"nsss\")  # Use the Microsoft Speech Platform: sapi5\n",
    "voices = engine.getProperty('voices')\n",
    "\n",
    "for i, voice in enumerate(voices):\n",
    "    print(f'Voice[{i}]: {voice.name}')\n",
    "    print(f\" - {voice.id}\")"
   ]
  },
  {
   "cell_type": "code",
   "execution_count": 22,
   "metadata": {},
   "outputs": [
    {
     "ename": "ImportError",
     "evalue": "COM technology not available (maybe it's the wrong platform).\nNote that COM is only supported on Windows.\nFor more details, please check: https://learn.microsoft.com/en-us/windows/win32/com",
     "output_type": "error",
     "traceback": [
      "\u001b[0;31m---------------------------------------------------------------------------\u001b[0m",
      "\u001b[0;31mKeyError\u001b[0m                                  Traceback (most recent call last)",
      "File \u001b[0;32m~/.virtualenvs/go-jetson/lib/python3.8/site-packages/pyttsx3/__init__.py:20\u001b[0m, in \u001b[0;36minit\u001b[0;34m(driverName, debug)\u001b[0m\n\u001b[1;32m     19\u001b[0m \u001b[38;5;28;01mtry\u001b[39;00m:\n\u001b[0;32m---> 20\u001b[0m     eng \u001b[38;5;241m=\u001b[39m \u001b[43m_activeEngines\u001b[49m\u001b[43m[\u001b[49m\u001b[43mdriverName\u001b[49m\u001b[43m]\u001b[49m\n\u001b[1;32m     21\u001b[0m \u001b[38;5;28;01mexcept\u001b[39;00m \u001b[38;5;167;01mKeyError\u001b[39;00m:\n",
      "File \u001b[0;32m~/.pyenv/versions/3.8.13/lib/python3.8/weakref.py:131\u001b[0m, in \u001b[0;36mWeakValueDictionary.__getitem__\u001b[0;34m(self, key)\u001b[0m\n\u001b[1;32m    130\u001b[0m     \u001b[38;5;28mself\u001b[39m\u001b[38;5;241m.\u001b[39m_commit_removals()\n\u001b[0;32m--> 131\u001b[0m o \u001b[38;5;241m=\u001b[39m \u001b[38;5;28;43mself\u001b[39;49m\u001b[38;5;241;43m.\u001b[39;49m\u001b[43mdata\u001b[49m\u001b[43m[\u001b[49m\u001b[43mkey\u001b[49m\u001b[43m]\u001b[49m()\n\u001b[1;32m    132\u001b[0m \u001b[38;5;28;01mif\u001b[39;00m o \u001b[38;5;129;01mis\u001b[39;00m \u001b[38;5;28;01mNone\u001b[39;00m:\n",
      "\u001b[0;31mKeyError\u001b[0m: 'sapi5'",
      "\nDuring handling of the above exception, another exception occurred:\n",
      "\u001b[0;31mImportError\u001b[0m                               Traceback (most recent call last)",
      "File \u001b[0;32m~/.virtualenvs/go-jetson/lib/python3.8/site-packages/comtypes/__init__.py:9\u001b[0m\n\u001b[1;32m      8\u001b[0m \u001b[38;5;28;01mtry\u001b[39;00m:\n\u001b[0;32m----> 9\u001b[0m     \u001b[38;5;28;01mfrom\u001b[39;00m \u001b[38;5;21;01m_ctypes\u001b[39;00m \u001b[38;5;28;01mimport\u001b[39;00m COMError\n\u001b[1;32m     10\u001b[0m \u001b[38;5;28;01mexcept\u001b[39;00m \u001b[38;5;167;01mImportError\u001b[39;00m \u001b[38;5;28;01mas\u001b[39;00m e:\n",
      "\u001b[0;31mImportError\u001b[0m: cannot import name 'COMError' from '_ctypes' (/Users/cwmak/.pyenv/versions/3.8.13/lib/python3.8/lib-dynload/_ctypes.cpython-38-darwin.so)",
      "\nThe above exception was the direct cause of the following exception:\n",
      "\u001b[0;31mImportError\u001b[0m                               Traceback (most recent call last)",
      "Cell \u001b[0;32mIn[22], line 3\u001b[0m\n\u001b[1;32m      1\u001b[0m \u001b[38;5;28;01mimport\u001b[39;00m \u001b[38;5;21;01mpyttsx3\u001b[39;00m\n\u001b[0;32m----> 3\u001b[0m engine \u001b[38;5;241m=\u001b[39m \u001b[43mpyttsx3\u001b[49m\u001b[38;5;241;43m.\u001b[39;49m\u001b[43minit\u001b[49m\u001b[43m(\u001b[49m\u001b[43mdriverName\u001b[49m\u001b[38;5;241;43m=\u001b[39;49m\u001b[38;5;124;43m\"\u001b[39;49m\u001b[38;5;124;43msapi5\u001b[39;49m\u001b[38;5;124;43m\"\u001b[39;49m\u001b[43m)\u001b[49m\n\u001b[1;32m      4\u001b[0m voices \u001b[38;5;241m=\u001b[39m engine\u001b[38;5;241m.\u001b[39mgetProperty(\u001b[38;5;124m'\u001b[39m\u001b[38;5;124mvoices\u001b[39m\u001b[38;5;124m'\u001b[39m)\n\u001b[1;32m      6\u001b[0m \u001b[38;5;66;03m# Find the voice with Cantonese language\u001b[39;00m\n",
      "File \u001b[0;32m~/.virtualenvs/go-jetson/lib/python3.8/site-packages/pyttsx3/__init__.py:22\u001b[0m, in \u001b[0;36minit\u001b[0;34m(driverName, debug)\u001b[0m\n\u001b[1;32m     20\u001b[0m     eng \u001b[38;5;241m=\u001b[39m _activeEngines[driverName]\n\u001b[1;32m     21\u001b[0m \u001b[38;5;28;01mexcept\u001b[39;00m \u001b[38;5;167;01mKeyError\u001b[39;00m:\n\u001b[0;32m---> 22\u001b[0m     eng \u001b[38;5;241m=\u001b[39m \u001b[43mEngine\u001b[49m\u001b[43m(\u001b[49m\u001b[43mdriverName\u001b[49m\u001b[43m,\u001b[49m\u001b[43m \u001b[49m\u001b[43mdebug\u001b[49m\u001b[43m)\u001b[49m\n\u001b[1;32m     23\u001b[0m     _activeEngines[driverName] \u001b[38;5;241m=\u001b[39m eng\n\u001b[1;32m     24\u001b[0m \u001b[38;5;28;01mreturn\u001b[39;00m eng\n",
      "File \u001b[0;32m~/.virtualenvs/go-jetson/lib/python3.8/site-packages/pyttsx3/engine.py:30\u001b[0m, in \u001b[0;36mEngine.__init__\u001b[0;34m(self, driverName, debug)\u001b[0m\n\u001b[1;32m     20\u001b[0m \u001b[38;5;28;01mdef\u001b[39;00m \u001b[38;5;21m__init__\u001b[39m(\u001b[38;5;28mself\u001b[39m, driverName\u001b[38;5;241m=\u001b[39m\u001b[38;5;28;01mNone\u001b[39;00m, debug\u001b[38;5;241m=\u001b[39m\u001b[38;5;28;01mFalse\u001b[39;00m):\n\u001b[1;32m     21\u001b[0m \u001b[38;5;250m    \u001b[39m\u001b[38;5;124;03m\"\"\"\u001b[39;00m\n\u001b[1;32m     22\u001b[0m \u001b[38;5;124;03m    Constructs a new TTS engine instance.\u001b[39;00m\n\u001b[1;32m     23\u001b[0m \n\u001b[0;32m   (...)\u001b[0m\n\u001b[1;32m     28\u001b[0m \u001b[38;5;124;03m    @type debug: bool\u001b[39;00m\n\u001b[1;32m     29\u001b[0m \u001b[38;5;124;03m    \"\"\"\u001b[39;00m\n\u001b[0;32m---> 30\u001b[0m     \u001b[38;5;28mself\u001b[39m\u001b[38;5;241m.\u001b[39mproxy \u001b[38;5;241m=\u001b[39m \u001b[43mdriver\u001b[49m\u001b[38;5;241;43m.\u001b[39;49m\u001b[43mDriverProxy\u001b[49m\u001b[43m(\u001b[49m\u001b[43mweakref\u001b[49m\u001b[38;5;241;43m.\u001b[39;49m\u001b[43mproxy\u001b[49m\u001b[43m(\u001b[49m\u001b[38;5;28;43mself\u001b[39;49m\u001b[43m)\u001b[49m\u001b[43m,\u001b[49m\u001b[43m \u001b[49m\u001b[43mdriverName\u001b[49m\u001b[43m,\u001b[49m\u001b[43m \u001b[49m\u001b[43mdebug\u001b[49m\u001b[43m)\u001b[49m\n\u001b[1;32m     31\u001b[0m     \u001b[38;5;66;03m# initialize other vars\u001b[39;00m\n\u001b[1;32m     32\u001b[0m     \u001b[38;5;28mself\u001b[39m\u001b[38;5;241m.\u001b[39m_connects \u001b[38;5;241m=\u001b[39m {}\n",
      "File \u001b[0;32m~/.virtualenvs/go-jetson/lib/python3.8/site-packages/pyttsx3/driver.py:50\u001b[0m, in \u001b[0;36mDriverProxy.__init__\u001b[0;34m(self, engine, driverName, debug)\u001b[0m\n\u001b[1;32m     48\u001b[0m \u001b[38;5;66;03m# import driver module\u001b[39;00m\n\u001b[1;32m     49\u001b[0m name \u001b[38;5;241m=\u001b[39m \u001b[38;5;124m'\u001b[39m\u001b[38;5;124mpyttsx3.drivers.\u001b[39m\u001b[38;5;132;01m%s\u001b[39;00m\u001b[38;5;124m'\u001b[39m \u001b[38;5;241m%\u001b[39m driverName\n\u001b[0;32m---> 50\u001b[0m \u001b[38;5;28mself\u001b[39m\u001b[38;5;241m.\u001b[39m_module \u001b[38;5;241m=\u001b[39m \u001b[43mimportlib\u001b[49m\u001b[38;5;241;43m.\u001b[39;49m\u001b[43mimport_module\u001b[49m\u001b[43m(\u001b[49m\u001b[43mname\u001b[49m\u001b[43m)\u001b[49m\n\u001b[1;32m     51\u001b[0m \u001b[38;5;66;03m# build driver instance\u001b[39;00m\n\u001b[1;32m     52\u001b[0m \u001b[38;5;28mself\u001b[39m\u001b[38;5;241m.\u001b[39m_driver \u001b[38;5;241m=\u001b[39m \u001b[38;5;28mself\u001b[39m\u001b[38;5;241m.\u001b[39m_module\u001b[38;5;241m.\u001b[39mbuildDriver(weakref\u001b[38;5;241m.\u001b[39mproxy(\u001b[38;5;28mself\u001b[39m))\n",
      "File \u001b[0;32m~/.pyenv/versions/3.8.13/lib/python3.8/importlib/__init__.py:127\u001b[0m, in \u001b[0;36mimport_module\u001b[0;34m(name, package)\u001b[0m\n\u001b[1;32m    125\u001b[0m             \u001b[38;5;28;01mbreak\u001b[39;00m\n\u001b[1;32m    126\u001b[0m         level \u001b[38;5;241m+\u001b[39m\u001b[38;5;241m=\u001b[39m \u001b[38;5;241m1\u001b[39m\n\u001b[0;32m--> 127\u001b[0m \u001b[38;5;28;01mreturn\u001b[39;00m \u001b[43m_bootstrap\u001b[49m\u001b[38;5;241;43m.\u001b[39;49m\u001b[43m_gcd_import\u001b[49m\u001b[43m(\u001b[49m\u001b[43mname\u001b[49m\u001b[43m[\u001b[49m\u001b[43mlevel\u001b[49m\u001b[43m:\u001b[49m\u001b[43m]\u001b[49m\u001b[43m,\u001b[49m\u001b[43m \u001b[49m\u001b[43mpackage\u001b[49m\u001b[43m,\u001b[49m\u001b[43m \u001b[49m\u001b[43mlevel\u001b[49m\u001b[43m)\u001b[49m\n",
      "File \u001b[0;32m<frozen importlib._bootstrap>:1014\u001b[0m, in \u001b[0;36m_gcd_import\u001b[0;34m(name, package, level)\u001b[0m\n",
      "File \u001b[0;32m<frozen importlib._bootstrap>:991\u001b[0m, in \u001b[0;36m_find_and_load\u001b[0;34m(name, import_)\u001b[0m\n",
      "File \u001b[0;32m<frozen importlib._bootstrap>:975\u001b[0m, in \u001b[0;36m_find_and_load_unlocked\u001b[0;34m(name, import_)\u001b[0m\n",
      "File \u001b[0;32m<frozen importlib._bootstrap>:671\u001b[0m, in \u001b[0;36m_load_unlocked\u001b[0;34m(spec)\u001b[0m\n",
      "File \u001b[0;32m<frozen importlib._bootstrap_external>:843\u001b[0m, in \u001b[0;36mexec_module\u001b[0;34m(self, module)\u001b[0m\n",
      "File \u001b[0;32m<frozen importlib._bootstrap>:219\u001b[0m, in \u001b[0;36m_call_with_frames_removed\u001b[0;34m(f, *args, **kwds)\u001b[0m\n",
      "File \u001b[0;32m~/.virtualenvs/go-jetson/lib/python3.8/site-packages/pyttsx3/drivers/sapi5.py:2\u001b[0m\n\u001b[1;32m      1\u001b[0m \u001b[38;5;66;03m# noinspection PyUnresolvedReferences\u001b[39;00m\n\u001b[0;32m----> 2\u001b[0m \u001b[38;5;28;01mimport\u001b[39;00m \u001b[38;5;21;01mcomtypes\u001b[39;00m\u001b[38;5;21;01m.\u001b[39;00m\u001b[38;5;21;01mclient\u001b[39;00m  \u001b[38;5;66;03m# Importing comtypes.client will make the gen subpackage\u001b[39;00m\n\u001b[1;32m      4\u001b[0m \u001b[38;5;28;01mtry\u001b[39;00m:\n\u001b[1;32m      5\u001b[0m     \u001b[38;5;28;01mfrom\u001b[39;00m \u001b[38;5;21;01mcomtypes\u001b[39;00m\u001b[38;5;21;01m.\u001b[39;00m\u001b[38;5;21;01mgen\u001b[39;00m \u001b[38;5;28;01mimport\u001b[39;00m SpeechLib  \u001b[38;5;66;03m# comtypes\u001b[39;00m\n",
      "File \u001b[0;32m~/.virtualenvs/go-jetson/lib/python3.8/site-packages/comtypes/__init__.py:19\u001b[0m\n\u001b[1;32m     10\u001b[0m \u001b[38;5;28;01mexcept\u001b[39;00m \u001b[38;5;167;01mImportError\u001b[39;00m \u001b[38;5;28;01mas\u001b[39;00m e:\n\u001b[1;32m     11\u001b[0m     msg \u001b[38;5;241m=\u001b[39m \u001b[38;5;124m\"\u001b[39m\u001b[38;5;130;01m\\n\u001b[39;00m\u001b[38;5;124m\"\u001b[39m\u001b[38;5;241m.\u001b[39mjoin(\n\u001b[1;32m     12\u001b[0m         (\n\u001b[1;32m     13\u001b[0m             \u001b[38;5;124m\"\u001b[39m\u001b[38;5;124mCOM technology not available (maybe it\u001b[39m\u001b[38;5;124m'\u001b[39m\u001b[38;5;124ms the wrong platform).\u001b[39m\u001b[38;5;124m\"\u001b[39m,\n\u001b[0;32m   (...)\u001b[0m\n\u001b[1;32m     17\u001b[0m         )\n\u001b[1;32m     18\u001b[0m     )\n\u001b[0;32m---> 19\u001b[0m     \u001b[38;5;28;01mraise\u001b[39;00m \u001b[38;5;167;01mImportError\u001b[39;00m(msg) \u001b[38;5;28;01mfrom\u001b[39;00m \u001b[38;5;21;01me\u001b[39;00m\n\u001b[1;32m     20\u001b[0m \u001b[38;5;28;01mimport\u001b[39;00m logging\n\u001b[1;32m     21\u001b[0m \u001b[38;5;28;01mimport\u001b[39;00m \u001b[38;5;21;01mos\u001b[39;00m\n",
      "\u001b[0;31mImportError\u001b[0m: COM technology not available (maybe it's the wrong platform).\nNote that COM is only supported on Windows.\nFor more details, please check: https://learn.microsoft.com/en-us/windows/win32/com"
     ]
    }
   ],
   "source": [
    "import pyttsx3\n",
    "\n",
    "engine = pyttsx3.init(driverName=\"sapi5\")\n",
    "voices = engine.getProperty('voices')\n",
    "\n",
    "# Find the voice with Cantonese language\n",
    "for voice in voices:\n",
    "    if voice.languages[0] == 'zh-HK':\n",
    "        engine.setProperty('voice', voice.id)\n",
    "        break\n",
    "\n",
    "engine.say(\"你好，你好嗎？\")\n",
    "engine.runAndWait()\n",
    "\n",
    "# Stop speech synthesis in the middle\n",
    "# engine.stop()"
   ]
  },
  {
   "cell_type": "code",
   "execution_count": 1,
   "metadata": {},
   "outputs": [
    {
     "name": "stdout",
     "output_type": "stream",
     "text": [
      "{'陷恒大假帳案羅兵咸傳重罰逾10億': 'https://std.stheadline.com/daily/article/2599014/日報-財經-陷恒大假帳案羅兵咸傳重罰逾10億', '李澤楷：對港有信心  營商排名或被低估': 'https://std.stheadline.com/daily/article/2599017/日報-財經-李澤楷-對港有信心-營商排名或被低估', '汽車街超購432倍  暗盤飆近5成': 'https://std.stheadline.com/daily/article/2599020/日報-財經-汽車街超購432倍-暗盤飆近5成', '京東「618」推港澳優惠華潤五豐首參與': 'https://std.stheadline.com/daily/article/2599023/日報-財經-京東-618-推港澳優惠華潤五豐首參與'}\n"
     ]
    }
   ],
   "source": [
    "import requests\n",
    "from bs4 import BeautifulSoup\n",
    "\n",
    "url = \"https://std.stheadline.com/daily/finance/%E6%97%A5%E5%A0%B1-%E8%B2%A1%E7%B6%93\"  # Replace with the URL of the webpage you want to scrape\n",
    "response = requests.get(url)\n",
    "soup = BeautifulSoup(response.content, \"html.parser\")\n",
    "\n",
    "title_elements = soup.find_all(class_=\"title\")  # Find all elements with class \"title\"\n",
    "\n",
    "result_dict = {}  # Initialize an empty dictionary\n",
    "\n",
    "for title in title_elements:\n",
    "    text = title.get_text()  # Get the text of the element\n",
    "    href = title.get(\"href\")  # Get the value of the href attribute\n",
    "    result_dict[text] = href  # Add key-value pair to the dictionary\n",
    "\n",
    "print(result_dict)"
   ]
  },
  {
   "cell_type": "code",
   "execution_count": null,
   "metadata": {},
   "outputs": [],
   "source": []
  }
 ],
 "metadata": {
  "kernelspec": {
   "display_name": "go-jetson",
   "language": "python",
   "name": "python3"
  },
  "language_info": {
   "codemirror_mode": {
    "name": "ipython",
    "version": 3
   },
   "file_extension": ".py",
   "mimetype": "text/x-python",
   "name": "python",
   "nbconvert_exporter": "python",
   "pygments_lexer": "ipython3",
   "version": "3.8.13"
  }
 },
 "nbformat": 4,
 "nbformat_minor": 2
}
