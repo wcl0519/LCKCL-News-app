{
  "nbformat": 4,
  "nbformat_minor": 0,
  "metadata": {
    "colab": {
      "name": "app.ipynb",
      "provenance": [],
      "collapsed_sections": [],
      "authorship_tag": "ABX9TyPPkA8z6Rf8mfSxx14ahCNB",
      "include_colab_link": true
    },
    "kernelspec": {
      "name": "python3",
      "display_name": "Python 3"
    }
  },
  "cells": [
    {
      "cell_type": "markdown",
      "metadata": {
        "id": "view-in-github",
        "colab_type": "text"
      },
      "source": [
        "<a href=\"https://colab.research.google.com/github/Sharan-Babu/Hack-for-Africa-Microsoft-Hack/blob/master/app.ipynb\" target=\"_parent\"><img src=\"https://colab.research.google.com/assets/colab-badge.svg\" alt=\"Open In Colab\"/></a>"
      ]
    },
    {
      "cell_type": "code",
      "metadata": {
        "id": "iafFh1vNHi39",
        "colab_type": "code",
        "colab": {}
      },
      "source": [
        "!pip install easyocr googletrans gTTS\n",
        "!pip install -U ipykernel\n",
        "!pip install -q streamlit\n",
        "!pip install pyngrok\n",
        "! ngrok authtoken <your_auth_token>"
      ],
      "execution_count": null,
      "outputs": []
    },
    {
      "cell_type": "code",
      "metadata": {
        "id": "El0z2tSAH48H",
        "colab_type": "code",
        "colab": {}
      },
      "source": [
        "%%writefile score.py\n",
        "import streamlit as st\n",
        "import easyocr\n",
        "from googletrans import Translator\n",
        "from gtts import gTTS\n",
        "from PIL import Image\n",
        "import numpy as np\n",
        "\n",
        "translator = Translator()\n",
        "\n",
        "def display_text(bounds):\n",
        "    text = []\n",
        "    for x in bounds:\n",
        "        t = x[1]\n",
        "        text.append(t)\n",
        "    text = ' '.join(text)\n",
        "    return text \n",
        "\n",
        "\n",
        "st.sidebar.title('Language Selection Menu')\n",
        "st.sidebar.subheader('Select...')\n",
        "src = st.sidebar.selectbox(\"From Language\",['English','Swahili','Arabic','Afrikaans'])\n",
        "\n",
        "st.sidebar.subheader('Select...')\n",
        "destination = st.sidebar.selectbox(\"To Language\",['Afrikaans','Arabic','Swahili','English'])\n",
        "\n",
        "st.sidebar.subheader(\"Enter Text\")\n",
        "area = st.sidebar.text_area(\"Auto Detection Enabled\",\"\")\n",
        "\n",
        "helper = {'Afrikaans':'af','Swahili':'sw','English':'en','Arabic':'ar'}\n",
        "dst = helper[destination]\n",
        "source = helper[src]\n",
        "\n",
        "if st.sidebar.button(\"Translate!\"):\n",
        "    if len(area)!=0:\n",
        "        sour = translator.detect(area).lang\n",
        "        answer = translator.translate(area, src=f'{sour}', dest=f'{dst}').text\n",
        "        #st.sidebar.text('Answer')\n",
        "        st.sidebar.text_area(\"Answer\",answer)\n",
        "        st.balloons()\n",
        "    else:\n",
        "        st.sidebar.subheader('Enter Text!')    \n",
        "\n",
        "\n",
        "st.set_option('deprecation.showfileUploaderEncoding',False)\n",
        "st.title('Hack for Africa - AI OCR')\n",
        "st.subheader('Optical Character Recognition with Voice output')\n",
        "st.text('Select source Language from the Sidebar.')\n",
        "\n",
        "image_file = st.file_uploader(\"Upload Image\",type=['jpg','png','jpeg','JPG'])\n",
        "\n",
        "\n",
        "if st.button(\"Convert\"):\n",
        "    \n",
        "    if image_file is not None:\n",
        "        img = Image.open(image_file)\n",
        "        img = np.array(img)\n",
        "        \n",
        "        st.subheader('Image you Uploaded...')\n",
        "        st.image(image_file,width=450)\n",
        "        \n",
        "        if src=='English':\n",
        "            with st.spinner('Extracting Text from given Image'):\n",
        "                eng_reader = easyocr.Reader(['en'])\n",
        "                detected_text = eng_reader.readtext(img)\n",
        "            st.subheader('Extracted text is ...')\n",
        "            text = display_text(detected_text)\n",
        "            st.write(text)\n",
        "            \n",
        "\n",
        "        elif src=='Swahili':\n",
        "            with st.spinner('Extracting Text from given Image'):\n",
        "                swahili_reader = easyocr.Reader(['sw'])\n",
        "                detected_text = swahili_reader.readtext(img)\n",
        "            st.subheader('Extracted text is ...')\n",
        "            text = display_text(detected_text)\n",
        "            st.write(text)\n",
        "              \n",
        "\n",
        "        elif src=='Afrikaans':\n",
        "            with st.spinner('Extracting Text from given Image'):\n",
        "                afrikaans_reader = easyocr.Reader(['af'])\n",
        "                detected_text = afrikaans_reader.readtext(img)\n",
        "            st.subheader('Extracted text is ...')\n",
        "            text = display_text(detected_text)\n",
        "            st.write(text)\n",
        "            \n",
        "        \n",
        "        elif src=='Arabic':\n",
        "            with st.spinner('Extracting Text from given Image...'):\n",
        "                arabic_reader = easyocr.Reader(['ar'])\n",
        "                detected_text = arabic_reader.readtext(img)\n",
        "            st.subheader('Extracted text is ...')\n",
        "            text = display_text(detected_text)\n",
        "            st.write(text)\n",
        "        st.write('')\n",
        "        ta_tts = gTTS(text,lang=f'{source}')\n",
        "        ta_tts.save('trans.mp3')\n",
        "        st.audio('trans.mp3',format='audio/mp3')\n",
        "        \n",
        "\n",
        "        with st.spinner('Translating Text...'):\n",
        "            result = translator.translate(text, src=f'{source}', dest=f'{dst}').text\n",
        "        st.subheader(\"Translated Text is ...\")\n",
        "        st.write(result) \n",
        "\n",
        "        st.write('')\n",
        "        st.header('Generated Audio')\n",
        "        \n",
        "        with st.spinner('Generating Audio ...'):\n",
        "            ta_tts2 = gTTS(result,lang=f'{dst}')\n",
        "            ta_tts2.save('trans2.mp3')\n",
        "        st.audio('trans2.mp3',format='audio/mp3')  \n",
        "        st.balloons()  \n",
        "               \n",
        "            \n",
        "    else:\n",
        "        st.subheader('Image not found! Please Upload an Image.')        "
      ],
      "execution_count": null,
      "outputs": []
    },
    {
      "cell_type": "code",
      "metadata": {
        "id": "Dsps086HH5p8",
        "colab_type": "code",
        "colab": {}
      },
      "source": [
        "!nohup streamlit run score.py &"
      ],
      "execution_count": null,
      "outputs": []
    },
    {
      "cell_type": "code",
      "metadata": {
        "id": "iHgPCgIQH642",
        "colab_type": "code",
        "colab": {}
      },
      "source": [
        "from pyngrok import ngrok\n",
        "\n",
        "url = ngrok.connect(port=8501)\n",
        "url"
      ],
      "execution_count": null,
      "outputs": []
    }
  ]
}